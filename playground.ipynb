{
 "cells": [
  {
   "cell_type": "code",
   "execution_count": 1,
   "metadata": {},
   "outputs": [
    {
     "name": "stderr",
     "output_type": "stream",
     "text": [
      "/home/zheyu/Anaconda/envs/robosaga/lib/python3.8/site-packages/tqdm/auto.py:22: TqdmWarning: IProgress not found. Please update jupyter and ipywidgets. See https://ipywidgets.readthedocs.io/en/stable/user_install.html\n",
      "  from .autonotebook import tqdm as notebook_tqdm\n"
     ]
    }
   ],
   "source": [
    "import torch"
   ]
  },
  {
   "cell_type": "code",
   "execution_count": 9,
   "metadata": {},
   "outputs": [
    {
     "name": "stdout",
     "output_type": "stream",
     "text": [
      "Buffer watcher: 0.10000000149011612 samples seen\n",
      "Buffer watcher: 0.20000000298023224 samples seen\n",
      "Buffer watcher: 0.30000001192092896 samples seen\n",
      "Buffer watcher: 0.4000000059604645 samples seen\n",
      "Buffer watcher: 0.5 samples seen\n",
      "Buffer watcher: 0.6000000238418579 samples seen\n",
      "Buffer watcher: 0.699999988079071 samples seen\n",
      "Buffer watcher: 0.800000011920929 samples seen\n",
      "Buffer watcher: 0.8999999761581421 samples seen\n",
      "Buffer watcher: 0.9889000058174133 samples seen\n",
      "Buffer watcher: 1.0 samples seen\n"
     ]
    }
   ],
   "source": [
    "n_samples = 10000\n",
    "buffer_watcher = torch.zeros(n_samples)\n",
    "global_indices = torch.arange(n_samples)\n",
    "data = torch.randn(n_samples, 10)\n",
    "\n",
    "batch_size = 100\n",
    "update_percent = 0.1\n",
    "\n",
    "n_epochs = 11\n",
    "for _ in range(n_epochs):\n",
    "    global_ids = torch.randperm(n_samples)\n",
    "    for i in range(0, n_samples, batch_size):\n",
    "        current_global_ids = global_ids[i:i+batch_size]\n",
    "        batch_indices = torch.arange(0, batch_size) \n",
    "        update_freq = buffer_watcher[current_global_ids]\n",
    "        sorted_update_freq, sorted_indices = torch.sort(update_freq)\n",
    "        batch_indices = batch_indices[sorted_indices]\n",
    "        current_global_ids = current_global_ids[sorted_indices]\n",
    "        n_update_samples = int(batch_size * update_percent)\n",
    "        buffer_watcher[current_global_ids[:n_update_samples]] += 1\n",
    "    updated_sample_count = torch.sum(buffer_watcher > 0)\n",
    "    print(f\"Buffer watcher: {updated_sample_count/n_samples} samples seen\")"
   ]
  },
  {
   "cell_type": "code",
   "execution_count": 9,
   "metadata": {},
   "outputs": [
    {
     "data": {
      "text/plain": [
       "[<matplotlib.lines.Line2D at 0x7490a4f46250>]"
      ]
     },
     "execution_count": 9,
     "metadata": {},
     "output_type": "execute_result"
    },
    {
     "data": {
      "image/png": "[encoded data removed]",
      "text/plain": [
       "<Figure size 640x480 with 1 Axes>"
      ]
     },
     "metadata": {},
     "output_type": "display_data"
    }
   ],
   "source": [
    "import numpy as np\n",
    "from math import cos, pi\n",
    "import matplotlib.pyplot as plt\n",
    "\n",
    "aug_ratio = 0.5\n",
    "saturation_epoch = 300\n",
    "epoch_idx = np.arange(0, 600)  \n",
    "update_ratio = 0.1\n",
    "\n",
    "lambda_ = 0.5 * (1 - np.cos(epoch_idx * pi / saturation_epoch))\n",
    "lambda_[epoch_idx > saturation_epoch] = 1\n",
    "aug_ratio = aug_ratio * lambda_\n",
    "aug_ratio[aug_ratio < update_ratio] = update_ratio\n",
    "\n",
    "plt.plot(epoch_idx, aug_ratio)"
   ]
  },
  {
   "cell_type": "code",
   "execution_count": null,
   "metadata": {},
   "outputs": [],
   "source": [
    "import os\n",
    "from PIL import Image\n",
    "\n",
    "def crop_and_save_as_png(image_path):\n",
    "    img = Image.open(image_path)\n",
    "    is_jpg = image_path.endswith('.jpg')    \n",
    "    width, height = img.size\n",
    "    # if width != height or is_jpg:\n",
    "    min_dim = min(width, height)\n",
    "    left = (width - min_dim)/2\n",
    "    top = (height - min_dim)/2\n",
    "    right = (width + min_dim)/2\n",
    "    bottom = (height + min_dim)/2\n",
    "    img = img.crop((left, top, right, bottom))\n",
    "    img = img.resize((800, 800))\n",
    "    image_path_new = os.path.splitext(image_path)[0] + '.png'\n",
    "    img.save(image_path_new, 'PNG')\n",
    "    # save n randomly cropped and rotated images\n",
    "    for i in range(1, 4):\n",
    "        img = img.rotate(90 * i)\n",
    "        img.save(os.path.splitext(image_path)[0] + f'_{i}.png', 'PNG')\n",
    "    \n",
    "    \n",
    "    if is_jpg:\n",
    "        os.remove(image_path)\n",
    "\n",
    "directory = '/home/zheyu/RoboSaGA/robosuite/robosuite/models/assets/textures/evaluation_textures/outdoor'\n",
    "for filename in os.listdir(directory):\n",
    "    if filename.endswith('.jpg') or filename.endswith('.png'):\n",
    "        crop_and_save_as_png(os.path.join(directory, filename))\n",
    "        \n",
    "        "
   ]
  },
  {
   "cell_type": "code",
   "execution_count": null,
   "metadata": {},
   "outputs": [],
   "source": []
  },
  {
   "cell_type": "code",
   "execution_count": null,
   "metadata": {},
   "outputs": [],
   "source": []
  }
 ],
 "metadata": {
  "kernelspec": {
   "display_name": "robosaga",
   "language": "python",
   "name": "python3"
  },
  "language_info": {
   "codemirror_mode": {
    "name": "ipython",
    "version": 3
   },
   "file_extension": ".py",
   "mimetype": "text/x-python",
   "name": "python",
   "nbconvert_exporter": "python",
   "pygments_lexer": "ipython3",
   "version": "3.8.18"
  }
 },
 "nbformat": 4,
 "nbformat_minor": 2
}
