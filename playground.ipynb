{
 "cells": [
  {
   "cell_type": "code",
   "execution_count": 1,
   "metadata": {},
   "outputs": [
    {
     "name": "stderr",
     "output_type": "stream",
     "text": [
      "/home/zheyu/Anaconda/envs/robosaga/lib/python3.8/site-packages/tqdm/auto.py:22: TqdmWarning: IProgress not found. Please update jupyter and ipywidgets. See https://ipywidgets.readthedocs.io/en/stable/user_install.html\n",
      "  from .autonotebook import tqdm as notebook_tqdm\n"
     ]
    }
   ],
   "source": [
    "import torch"
   ]
  },
  {
   "cell_type": "code",
   "execution_count": 2,
   "metadata": {},
   "outputs": [
    {
     "name": "stdout",
     "output_type": "stream",
     "text": [
      "Buffer watcher: 0.10000000149011612 samples seen\n",
      "Buffer watcher: 0.20000000298023224 samples seen\n",
      "Buffer watcher: 0.30000001192092896 samples seen\n",
      "Buffer watcher: 0.4000000059604645 samples seen\n",
      "Buffer watcher: 0.5 samples seen\n",
      "Buffer watcher: 0.6000000238418579 samples seen\n",
      "Buffer watcher: 0.699999988079071 samples seen\n",
      "Buffer watcher: 0.800000011920929 samples seen\n",
      "Buffer watcher: 0.8999999761581421 samples seen\n",
      "Buffer watcher: 0.9879000186920166 samples seen\n",
      "Buffer watcher: 1.0 samples seen\n"
     ]
    }
   ],
   "source": [
    "n_samples = 10000\n",
    "buffer_watcher = torch.zeros(n_samples)\n",
    "global_indices = torch.arange(n_samples)\n",
    "data = torch.randn(n_samples, 10)\n",
    "\n",
    "batch_size = 100\n",
    "update_percent = 0.1\n",
    "\n",
    "n_epochs = 11\n",
    "for _ in range(n_epochs):\n",
    "    global_ids = torch.randperm(n_samples)\n",
    "    for i in range(0, n_samples, batch_size):\n",
    "        current_global_ids = global_ids[i:i+batch_size]\n",
    "        batch_indices = torch.arange(0, batch_size) \n",
    "        update_freq = buffer_watcher[current_global_ids]\n",
    "        sorted_update_freq, sorted_indices = torch.sort(update_freq)\n",
    "        batch_indices = batch_indices[sorted_indices]\n",
    "        current_global_ids = current_global_ids[sorted_indices]\n",
    "        n_update_samples = int(batch_size * update_percent)\n",
    "        buffer_watcher[current_global_ids[:n_update_samples]] += 1\n",
    "    updated_sample_count = torch.sum(buffer_watcher > 0)\n",
    "    print(f\"Buffer watcher: {updated_sample_count/n_samples} samples seen\")"
   ]
  },
  {
   "cell_type": "code",
   "execution_count": 3,
   "metadata": {},
   "outputs": [
    {
     "data": {
      "text/plain": [
       "[<matplotlib.lines.Line2D at 0x73b45dc5fc10>]"
      ]
     },
     "execution_count": 3,
     "metadata": {},
     "output_type": "execute_result"
    },
    {
     "data": {
      "image/png": "[encoded data removed]",
      "text/plain": [
       "<Figure size 640x480 with 1 Axes>"
      ]
     },
     "metadata": {},
     "output_type": "display_data"
    }
   ],
   "source": [
    "import numpy as np\n",
    "from math import cos, pi\n",
    "import matplotlib.pyplot as plt\n",
    "\n",
    "aug_ratio = 0.5\n",
    "saturation_epoch = 300\n",
    "epoch_idx = np.arange(0, 600)  \n",
    "update_ratio = 0.1\n",
    "\n",
    "lambda_ = 0.5 * (1 - np.cos(epoch_idx * pi / saturation_epoch))\n",
    "lambda_[epoch_idx > saturation_epoch] = 1\n",
    "aug_ratio = aug_ratio * lambda_\n",
    "aug_ratio[aug_ratio < update_ratio] = update_ratio\n",
    "\n",
    "plt.plot(epoch_idx, aug_ratio)"
   ]
  },
  {
   "cell_type": "code",
   "execution_count": 4,
   "metadata": {},
   "outputs": [
    {
     "ename": "KeyboardInterrupt",
     "evalue": "",
     "output_type": "error",
     "traceback": [
      "\u001b[0;31m---------------------------------------------------------------------------\u001b[0m",
      "\u001b[0;31mKeyboardInterrupt\u001b[0m                         Traceback (most recent call last)",
      "Cell \u001b[0;32mIn[4], line 30\u001b[0m\n\u001b[1;32m     28\u001b[0m \u001b[38;5;28;01mfor\u001b[39;00m filename \u001b[38;5;129;01min\u001b[39;00m os\u001b[38;5;241m.\u001b[39mlistdir(directory):\n\u001b[1;32m     29\u001b[0m     \u001b[38;5;28;01mif\u001b[39;00m filename\u001b[38;5;241m.\u001b[39mendswith(\u001b[38;5;124m'\u001b[39m\u001b[38;5;124m.jpg\u001b[39m\u001b[38;5;124m'\u001b[39m) \u001b[38;5;129;01mor\u001b[39;00m filename\u001b[38;5;241m.\u001b[39mendswith(\u001b[38;5;124m'\u001b[39m\u001b[38;5;124m.png\u001b[39m\u001b[38;5;124m'\u001b[39m):\n\u001b[0;32m---> 30\u001b[0m         \u001b[43mcrop_and_save_as_png\u001b[49m\u001b[43m(\u001b[49m\u001b[43mos\u001b[49m\u001b[38;5;241;43m.\u001b[39;49m\u001b[43mpath\u001b[49m\u001b[38;5;241;43m.\u001b[39;49m\u001b[43mjoin\u001b[49m\u001b[43m(\u001b[49m\u001b[43mdirectory\u001b[49m\u001b[43m,\u001b[49m\u001b[43m \u001b[49m\u001b[43mfilename\u001b[49m\u001b[43m)\u001b[49m\u001b[43m)\u001b[49m\n",
      "Cell \u001b[0;32mIn[4], line 21\u001b[0m, in \u001b[0;36mcrop_and_save_as_png\u001b[0;34m(image_path)\u001b[0m\n\u001b[1;32m     19\u001b[0m \u001b[38;5;28;01mfor\u001b[39;00m i \u001b[38;5;129;01min\u001b[39;00m \u001b[38;5;28mrange\u001b[39m(\u001b[38;5;241m1\u001b[39m, \u001b[38;5;241m4\u001b[39m):\n\u001b[1;32m     20\u001b[0m     img \u001b[38;5;241m=\u001b[39m img\u001b[38;5;241m.\u001b[39mrotate(\u001b[38;5;241m90\u001b[39m \u001b[38;5;241m*\u001b[39m i)\n\u001b[0;32m---> 21\u001b[0m     \u001b[43mimg\u001b[49m\u001b[38;5;241;43m.\u001b[39;49m\u001b[43msave\u001b[49m\u001b[43m(\u001b[49m\u001b[43mos\u001b[49m\u001b[38;5;241;43m.\u001b[39;49m\u001b[43mpath\u001b[49m\u001b[38;5;241;43m.\u001b[39;49m\u001b[43msplitext\u001b[49m\u001b[43m(\u001b[49m\u001b[43mimage_path\u001b[49m\u001b[43m)\u001b[49m\u001b[43m[\u001b[49m\u001b[38;5;241;43m0\u001b[39;49m\u001b[43m]\u001b[49m\u001b[43m \u001b[49m\u001b[38;5;241;43m+\u001b[39;49m\u001b[43m \u001b[49m\u001b[38;5;124;43mf\u001b[39;49m\u001b[38;5;124;43m'\u001b[39;49m\u001b[38;5;124;43m_\u001b[39;49m\u001b[38;5;132;43;01m{\u001b[39;49;00m\u001b[43mi\u001b[49m\u001b[38;5;132;43;01m}\u001b[39;49;00m\u001b[38;5;124;43m.png\u001b[39;49m\u001b[38;5;124;43m'\u001b[39;49m\u001b[43m,\u001b[49m\u001b[43m \u001b[49m\u001b[38;5;124;43m'\u001b[39;49m\u001b[38;5;124;43mPNG\u001b[39;49m\u001b[38;5;124;43m'\u001b[39;49m\u001b[43m)\u001b[49m\n\u001b[1;32m     24\u001b[0m \u001b[38;5;28;01mif\u001b[39;00m is_jpg:\n\u001b[1;32m     25\u001b[0m     os\u001b[38;5;241m.\u001b[39mremove(image_path)\n",
      "File \u001b[0;32m~/Anaconda/envs/robosaga/lib/python3.8/site-packages/PIL/Image.py:2320\u001b[0m, in \u001b[0;36mImage.save\u001b[0;34m(self, fp, format, **params)\u001b[0m\n\u001b[1;32m   2317\u001b[0m         fp \u001b[38;5;241m=\u001b[39m builtins\u001b[38;5;241m.\u001b[39mopen(filename, \u001b[38;5;124m\"\u001b[39m\u001b[38;5;124mw+b\u001b[39m\u001b[38;5;124m\"\u001b[39m)\n\u001b[1;32m   2319\u001b[0m \u001b[38;5;28;01mtry\u001b[39;00m:\n\u001b[0;32m-> 2320\u001b[0m     \u001b[43msave_handler\u001b[49m\u001b[43m(\u001b[49m\u001b[38;5;28;43mself\u001b[39;49m\u001b[43m,\u001b[49m\u001b[43m \u001b[49m\u001b[43mfp\u001b[49m\u001b[43m,\u001b[49m\u001b[43m \u001b[49m\u001b[43mfilename\u001b[49m\u001b[43m)\u001b[49m\n\u001b[1;32m   2321\u001b[0m \u001b[38;5;28;01mexcept\u001b[39;00m \u001b[38;5;167;01mException\u001b[39;00m:\n\u001b[1;32m   2322\u001b[0m     \u001b[38;5;28;01mif\u001b[39;00m open_fp:\n",
      "File \u001b[0;32m~/Anaconda/envs/robosaga/lib/python3.8/site-packages/PIL/PngImagePlugin.py:1374\u001b[0m, in \u001b[0;36m_save\u001b[0;34m(im, fp, filename, chunk, save_all)\u001b[0m\n\u001b[1;32m   1372\u001b[0m     _write_multiple_frames(im, fp, chunk, rawmode)\n\u001b[1;32m   1373\u001b[0m \u001b[38;5;28;01melse\u001b[39;00m:\n\u001b[0;32m-> 1374\u001b[0m     \u001b[43mImageFile\u001b[49m\u001b[38;5;241;43m.\u001b[39;49m\u001b[43m_save\u001b[49m\u001b[43m(\u001b[49m\u001b[43mim\u001b[49m\u001b[43m,\u001b[49m\u001b[43m \u001b[49m\u001b[43m_idat\u001b[49m\u001b[43m(\u001b[49m\u001b[43mfp\u001b[49m\u001b[43m,\u001b[49m\u001b[43m \u001b[49m\u001b[43mchunk\u001b[49m\u001b[43m)\u001b[49m\u001b[43m,\u001b[49m\u001b[43m \u001b[49m\u001b[43m[\u001b[49m\u001b[43m(\u001b[49m\u001b[38;5;124;43m\"\u001b[39;49m\u001b[38;5;124;43mzip\u001b[39;49m\u001b[38;5;124;43m\"\u001b[39;49m\u001b[43m,\u001b[49m\u001b[43m \u001b[49m\u001b[43m(\u001b[49m\u001b[38;5;241;43m0\u001b[39;49m\u001b[43m,\u001b[49m\u001b[43m \u001b[49m\u001b[38;5;241;43m0\u001b[39;49m\u001b[43m)\u001b[49m\u001b[43m \u001b[49m\u001b[38;5;241;43m+\u001b[39;49m\u001b[43m \u001b[49m\u001b[43mim\u001b[49m\u001b[38;5;241;43m.\u001b[39;49m\u001b[43msize\u001b[49m\u001b[43m,\u001b[49m\u001b[43m \u001b[49m\u001b[38;5;241;43m0\u001b[39;49m\u001b[43m,\u001b[49m\u001b[43m \u001b[49m\u001b[43mrawmode\u001b[49m\u001b[43m)\u001b[49m\u001b[43m]\u001b[49m\u001b[43m)\u001b[49m\n\u001b[1;32m   1376\u001b[0m \u001b[38;5;28;01mif\u001b[39;00m info:\n\u001b[1;32m   1377\u001b[0m     \u001b[38;5;28;01mfor\u001b[39;00m info_chunk \u001b[38;5;129;01min\u001b[39;00m info\u001b[38;5;241m.\u001b[39mchunks:\n",
      "File \u001b[0;32m~/Anaconda/envs/robosaga/lib/python3.8/site-packages/PIL/ImageFile.py:518\u001b[0m, in \u001b[0;36m_save\u001b[0;34m(im, fp, tile, bufsize)\u001b[0m\n\u001b[1;32m    515\u001b[0m \u001b[38;5;28;01mif\u001b[39;00m exc:\n\u001b[1;32m    516\u001b[0m     \u001b[38;5;66;03m# compress to Python file-compatible object\u001b[39;00m\n\u001b[1;32m    517\u001b[0m     \u001b[38;5;28;01mwhile\u001b[39;00m \u001b[38;5;28;01mTrue\u001b[39;00m:\n\u001b[0;32m--> 518\u001b[0m         l, s, d \u001b[38;5;241m=\u001b[39m \u001b[43mencoder\u001b[49m\u001b[38;5;241;43m.\u001b[39;49m\u001b[43mencode\u001b[49m\u001b[43m(\u001b[49m\u001b[43mbufsize\u001b[49m\u001b[43m)\u001b[49m\n\u001b[1;32m    519\u001b[0m         fp\u001b[38;5;241m.\u001b[39mwrite(d)\n\u001b[1;32m    520\u001b[0m         \u001b[38;5;28;01mif\u001b[39;00m s:\n",
      "\u001b[0;31mKeyboardInterrupt\u001b[0m: "
     ]
    }
   ],
   "source": [
    "import os\n",
    "from PIL import Image\n",
    "\n",
    "def crop_and_save_as_png(image_path):\n",
    "    img = Image.open(image_path)\n",
    "    is_jpg = image_path.endswith('.jpg')    \n",
    "    width, height = img.size\n",
    "    # if width != height or is_jpg:\n",
    "    min_dim = min(width, height)\n",
    "    left = (width - min_dim)/2\n",
    "    top = (height - min_dim)/2\n",
    "    right = (width + min_dim)/2\n",
    "    bottom = (height + min_dim)/2\n",
    "    img = img.crop((left, top, right, bottom))\n",
    "    img = img.resize((800, 800))\n",
    "    image_path_new = os.path.splitext(image_path)[0] + '.png'\n",
    "    img.save(image_path_new, 'PNG')\n",
    "    # save n randomly cropped and rotated images\n",
    "    for i in range(1, 4):\n",
    "        img = img.rotate(90 * i)\n",
    "        img.save(os.path.splitext(image_path)[0] + f'_{i}.png', 'PNG')\n",
    "    \n",
    "    \n",
    "    if is_jpg:\n",
    "        os.remove(image_path)\n",
    "\n",
    "directory = '/home/zheyu/RoboSaGA/robosuite/robosuite/models/assets/textures/evaluation_textures/floor'\n",
    "for filename in os.listdir(directory):\n",
    "    if filename.endswith('.jpg') or filename.endswith('.png'):\n",
    "        crop_and_save_as_png(os.path.join(directory, filename))\n",
    "        \n",
    "        "
   ]
  },
  {
   "cell_type": "code",
   "execution_count": null,
   "metadata": {},
   "outputs": [
    {
     "name": "stderr",
     "output_type": "stream",
     "text": [
      "/home/zheyu/Anaconda/envs/robosaga/lib/python3.8/site-packages/tqdm/auto.py:22: TqdmWarning: IProgress not found. Please update jupyter and ipywidgets. See https://ipywidgets.readthedocs.io/en/stable/user_install.html\n",
      "  from .autonotebook import tqdm as notebook_tqdm\n"
     ]
    }
   ],
   "source": [
    "import torch \n",
    "import hydra\n",
    "from diffusion_policy.workspace.base_workspace import BaseWorkspace\n",
    "from diffusion_policy.policy.base_image_policy import BaseImagePolicy\n",
    "import dill\n",
    "\n",
    "import zarr\n",
    "import numpy\n"
   ]
  },
  {
   "cell_type": "code",
   "execution_count": null,
   "metadata": {},
   "outputs": [
    {
     "name": "stdout",
     "output_type": "stream",
     "text": [
      "meta\n",
      " └── episode_ends (160,) int64\n"
     ]
    }
   ],
   "source": [
    "data_path = 'data/green_pnp.zarr'\n",
    "store = zarr.DirectoryStore(data_path)\n",
    "src_root = zarr.group(store=store, overwrite=False)\n",
    "#\n",
    "data = src_root['data']\n",
    "meta = src_root['meta']\n",
    "\n",
    "print(meta.tree())"
   ]
  },
  {
   "cell_type": "code",
   "execution_count": null,
   "metadata": {},
   "outputs": [],
   "source": [
    "img = \"/home/zheyu/RoboSaGA/experiments/robosaga/lift_image/bc_rnn/saga/20240531091404/saliency/epoch_162/batch_15_saliency.jpg\"\n",
    "\n",
    "\n",
    "# the image contains multiple images with black borders, extract each image\n",
    "import cv2\n",
    "import numpy as np\n",
    "\n",
    "# Load the image\n",
    "image_path = \"/home/zheyu/RoboSaGA/experiments/robosaga/lift_image/bc_rnn/saga/20240531091404/saliency/epoch_162/batch_15_saliency.jpg\"\n",
    "image = cv2.imread(image_path)\n",
    "\n",
    "# Convert the image to grayscale\n",
    "gray = cv2.cvtColor(image, cv2.COLOR_BGR2GRAY)\n",
    "\n",
    "# Threshold the image to separate the black borders\n",
    "_, threshold = cv2.threshold(gray, 1, 255, cv2.THRESH_BINARY)\n",
    "\n",
    "# Find contours of the black borders\n",
    "contours, _ = cv2.findContours(threshold, cv2.RETR_EXTERNAL, cv2.CHAIN_APPROX_SIMPLE)\n",
    "\n",
    "# Extract each image\n",
    "extracted_images = []\n",
    "for contour in contours:\n",
    "    x, y, w, h = cv2.boundingRect(contour)\n",
    "    extracted_image = image[y:y+h, x:x+w]\n",
    "    extracted_images.append(extracted_image)\n",
    "\n",
    "# Display the extracted images\n",
    "for i, extracted_image in enumerate(extracted_images):\n",
    "    cv2.imshow(f\"Extracted Image {i+1}\", extracted_image)\n",
    "    cv2.waitKey(0)\n",
    "    cv2.destroyAllWindows()"
   ]
  },
  {
   "cell_type": "code",
   "execution_count": null,
   "metadata": {},
   "outputs": [],
   "source": [
    "import cv2\n",
    "import numpy as np\n",
    "\n",
    "# Load the image\n",
    "image_path = \"/home/zheyu/RoboSaGA/experiments/robosaga/lift_image/bc_rnn/saga/20240531091404/saliency/epoch_162/batch_15_saliency.jpg\"\n",
    "image = cv2.imread(image_path)\n",
    "\n",
    "if image is None:\n",
    "    print(\"Failed to load image\")\n",
    "else:\n",
    "    print(\"Image loaded successfully\")\n",
    "\n",
    "# Convert the image to grayscale\n",
    "gray = cv2.cvtColor(image, cv2.COLOR_BGR2GRAY)\n",
    "\n",
    "# Threshold the image to separate the black borders\n",
    "_, threshold = cv2.threshold(gray, 1, 255, cv2.THRESH_BINARY)\n",
    "\n",
    "# Find contours of the black borders\n",
    "contours, _ = cv2.findContours(threshold, cv2.RETR_EXTERNAL, cv2.CHAIN_APPROX_SIMPLE)\n",
    "\n",
    "if not contours:\n",
    "    print(\"No contours found\")\n",
    "else:\n",
    "    print(f\"Found {len(contours)} contours\")\n",
    "\n",
    "# Extract each image\n",
    "extracted_images = []\n",
    "for contour in contours:\n",
    "    x, y, w, h = cv2.boundingRect(contour)\n",
    "    extracted_image = image[y:y+h, x:x+w]\n",
    "    extracted_images.append(extracted_image)\n",
    "\n",
    "if not extracted_images:\n",
    "    print(\"No images extracted\")\n",
    "else:\n",
    "    print(f\"Extracted {len(extracted_images)} images\")\n",
    "\n",
    "# Display the extracted images\n",
    "for i, extracted_image in enumerate(extracted_images):\n",
    "    cv2.imshow(f\"Extracted Image {i+1}\", extracted_image)\n",
    "    cv2.waitKey(0)\n",
    "    cv2.destroyAllWindows()"
   ]
  },
  {
   "cell_type": "code",
   "execution_count": 5,
   "metadata": {},
   "outputs": [],
   "source": [
    "import numpy as np\n",
    "import matplotlib.pyplot as plt"
   ]
  },
  {
   "cell_type": "code",
   "execution_count": 6,
   "metadata": {},
   "outputs": [],
   "source": [
    "bc_no_aug = [0.1, 0.15, 0.18, 0.11]\n",
    "bc_overlay = [0.77, 0.61, 0.35, 0.13]\n",
    "bc_soda = [0.88, 0.57, 0.24, 0.12]\n",
    "bc_saga = [0.92, 0.75, 0.48, 0.12]\n",
    "\n",
    "rnn_no_aug = [0.05, 0.16, 0.17, 0.12]\n",
    "rnn_overlay = [0.94, 0.58, 0.49, 0.25]\n",
    "rnn_soda = [0.79, 0.59, 0.3, 0.22]\n",
    "rnn_saga = [0.96, 0.6, 0.59, 0.33]\n",
    "\n",
    "diff_no_aug = [0.7, 0.45, 0.25, 0.22]\n",
    "diff_overlay = [0.99, 0.73, 0.74, 0.51]\n",
    "diff_soda = [0.99, 0.68, 0.72, 0.47]\n",
    "diff_saga = [0.97, 0.86, 0.83, 0.57] "
   ]
  },
  {
   "cell_type": "code",
   "execution_count": 27,
   "metadata": {},
   "outputs": [
    {
     "data": {
      "image/png": "[encoded data removed]",
      "text/plain": [
       "<Figure size 640x480 with 1 Axes>"
      ]
     },
     "metadata": {},
     "output_type": "display_data"
    }
   ],
   "source": [
    "bc_no_aug = np.mean(np.array(bc_no_aug))\n",
    "bc_overlay = np.mean(np.array(bc_overlay))\n",
    "bc_soda = np.mean(np.array(bc_soda))\n",
    "bc_saga = np.mean(np.array(bc_saga))\n",
    "\n",
    "rnn_no_aug = np.mean(np.array(rnn_no_aug))\n",
    "rnn_overlay = np.mean(np.array(rnn_overlay))\n",
    "rnn_soda = np.mean(np.array(rnn_soda))\n",
    "rnn_saga = np.mean(np.array(rnn_saga))\n",
    "\n",
    "diff_no_aug = np.mean(np.array(diff_no_aug))\n",
    "diff_overlay = np.mean(np.array(diff_overlay))\n",
    "diff_soda = np.mean(np.array(diff_soda))\n",
    "diff_saga = np.mean(np.array(diff_saga))\n",
    "\n",
    "bc = [bc_no_aug, bc_soda, bc_overlay, bc_saga]\n",
    "\n",
    "rnn = [rnn_no_aug, rnn_soda, rnn_overlay, rnn_saga]\n",
    "\n",
    "diff = [diff_no_aug,diff_soda,  diff_overlay,  diff_saga]\n",
    "\n",
    "\n",
    "no_aug = [bc_no_aug, rnn_no_aug, diff_no_aug]\n",
    "soda = [bc_soda, rnn_soda, diff_soda]\n",
    "overlay = [bc_overlay, rnn_overlay, diff_overlay]\n",
    "saga = [bc_saga, rnn_saga, diff_saga]\n",
    "\n",
    "\n",
    "\n",
    "import matplotlib.pyplot as plt\n",
    "import numpy as np\n",
    "\n",
    "# Set the bar width\n",
    "barWidth = 0.18\n",
    "\n",
    "\n",
    "r1 = np.arange(len(no_aug))\n",
    "r2 = [x + barWidth for x in r1]\n",
    "r3 = [x + barWidth for x in r2]\n",
    "r4 = [x + barWidth for x in r3]\n",
    "\n",
    "plt.bar(r1, no_aug, color='#4878D0', width=barWidth, label='No Augmentation')\n",
    "plt.bar(r2, soda, color='#EE854A', width=barWidth, label='SODA')\n",
    "plt.bar(r3, overlay, color='#6ACC64', width=barWidth, label='Random Overlay')\n",
    "plt.bar(r4, saga, color='#D65F5F', width=barWidth, label='RoboSaGA')\n",
    "\n",
    "plt.xticks([r + barWidth*1.5 for r in range(len(no_aug))], ['BC-MLP', 'BC-RNN', 'Diffusion Policy'])\n",
    "plt.legend()\n",
    "plt.show()\n"
   ]
  },
  {
   "cell_type": "code",
   "execution_count": 30,
   "metadata": {},
   "outputs": [
    {
     "data": {
      "image/png": "[encoded data removed]",
      "text/plain": [
       "<Figure size 1000x500 with 1 Axes>"
      ]
     },
     "metadata": {},
     "output_type": "display_data"
    }
   ],
   "source": [
    "soda_diff = np.array(soda) - np.array(no_aug)\n",
    "overlay_diff = np.array(overlay) - np.array(no_aug)\n",
    "saga_diff = np.array(saga) - np.array(no_aug)\n",
    "\n",
    "\n",
    "barWidth = 0.18\n",
    "plt.figure(figsize=(10, 5))\n",
    "\n",
    "r1 = np.arange(len(soda_diff))\n",
    "r2 = [x + barWidth for x in r1]\n",
    "r3 = [x + barWidth for x in r2]\n",
    "\n",
    "plt.bar(r1, soda_diff, color='#EE854A', width=barWidth, label='SODA')\n",
    "plt.bar(r2, overlay_diff, color='#6ACC64', width=barWidth, label='Random Overlay')\n",
    "plt.bar(r3, saga_diff, color='#D65F5F', width=barWidth, label='RoboSaGA')\n",
    "\n",
    "plt.xticks([r + barWidth*1.5 for r in range(len(soda_diff))], ['BC-MLP', 'BC-RNN', 'Diffusion Policy'])\n",
    "\n",
    "plt.legend()\n",
    "plt.show()\n",
    "\n"
   ]
  }
 ],
 "metadata": {
  "kernelspec": {
   "display_name": "robosaga",
   "language": "python",
   "name": "python3"
  },
  "language_info": {
   "codemirror_mode": {
    "name": "ipython",
    "version": 3
   },
   "file_extension": ".py",
   "mimetype": "text/x-python",
   "name": "python",
   "nbconvert_exporter": "python",
   "pygments_lexer": "ipython3",
   "version": "3.8.18"
  }
 },
 "nbformat": 4,
 "nbformat_minor": 2
}
