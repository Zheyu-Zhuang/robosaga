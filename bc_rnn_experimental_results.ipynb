{
 "cells": [
  {
   "cell_type": "code",
   "execution_count": 4,
   "metadata": {},
   "outputs": [],
   "source": [
    "import numpy as np\n",
    "import os\n",
    "import copy"
   ]
  },
  {
   "cell_type": "code",
   "execution_count": 16,
   "metadata": {},
   "outputs": [],
   "source": [
    "saga_bc_rnn_square = {'Net': 'SaGA', 'task': 'square', 'in-domain': [0.82, 0.84, 0.84], 'textile': [0.7, 0.64, 0.68], 'indoor': [0.42, 0.42, 0.38], 'outdoor': [0.5, 0.54, 0.46]} \n",
    "soda_bc_rnn_square = {'Net': 'SODA', 'task': 'square', 'in-domain':[0.76, 0.8, 0.8] , 'textile': [0.6, 0.44, 0.48], 'indoor': [0.28, 0.18, 0.3], 'outdoor': [0.22, 0.18, 0.22]}\n",
    "overlay_bc_rnn_square = {'Net': 'Overlay', 'task': 'square', 'in-domain':[0.82, 0.82, 0.74], 'textile': [0.6, 0.56, 0.36], 'indoor': [0.22, 0.22, 0.12], 'outdoor': [0.24, 0.24, 0.2]}"
   ]
  },
  {
   "cell_type": "code",
   "execution_count": 17,
   "metadata": {},
   "outputs": [],
   "source": [
    "\n",
    "\n",
    "bc_rnn_square_exps = [saga_bc_rnn_square, soda_bc_rnn_square, overlay_bc_rnn_square]\n",
    "\n",
    "def get_statistics(exp_data):\n",
    "    data_keys = ['in-domain', 'textile', 'indoor', 'outdoor']\n",
    "    exp_stats = copy.deepcopy(exp_data)\n",
    "    for exp in exp_stats:\n",
    "        for key in data_keys:\n",
    "            exp[key] = f'{np.mean(exp[key]):.2f} +/- {np.std(exp[key]):.2f}'\n",
    "    return exp_stats\n",
    "            \n",
    "def print_table(exp_data, format='markdown'):\n",
    "    exp_stats = get_statistics(exp_data)\n",
    "    if format == 'markdown':\n",
    "        print('| Model | Task | In-domain | Textile | Indoor | Outdoor |')\n",
    "        print('| --- | --- | --- | --- | --- | --- |')\n",
    "        for exp in exp_stats:\n",
    "            print(f\"| {exp['Net']} | {exp['task']} | {exp['in-domain']} | {exp['textile']} | {exp['indoor']} | {exp['outdoor']} |\")\n",
    "    elif format == 'latex':\n",
    "        print(r'\\begin{table}[h]')\n",
    "        print(r'\\centering')\n",
    "        print(r'\\begin{tabular}{|c|c|c|c|c|c|}')\n",
    "        print(r'\\hline')\n",
    "        print(r'Model & Task & In-domain & Textile & Indoor & Outdoor \\\\')\n",
    "        print(r'\\hline')\n",
    "        for exp in exp_stats:\n",
    "            print(f\"{exp['Net']} & {exp['task']} & {exp['in-domain']} & {exp['textile']} & {exp['indoor']} & {exp['outdoor']} \\\\\")\n",
    "        print(r'\\hline')\n",
    "        print(r'\\end{tabular}')\n",
    "        print(r'\\end{table}')\n",
    "    \n",
    "        "
   ]
  },
  {
   "cell_type": "code",
   "execution_count": 18,
   "metadata": {},
   "outputs": [
    {
     "name": "stdout",
     "output_type": "stream",
     "text": [
      "| Model | Task | In-domain | Textile | Indoor | Outdoor |\n",
      "| --- | --- | --- | --- | --- | --- |\n",
      "| SaGA | square | 0.83 +/- 0.01 | 0.67 +/- 0.02 | 0.41 +/- 0.02 | 0.50 +/- 0.03 |\n",
      "| SODA | square | 0.79 +/- 0.02 | 0.51 +/- 0.07 | 0.25 +/- 0.05 | 0.21 +/- 0.02 |\n",
      "| Overlay | square | 0.79 +/- 0.04 | 0.51 +/- 0.10 | 0.19 +/- 0.05 | 0.23 +/- 0.02 |\n"
     ]
    }
   ],
   "source": [
    "print_table(bc_rnn_square_exps)"
   ]
  },
  {
   "cell_type": "markdown",
   "metadata": {},
   "source": [
    "| Model | Task | In-domain | Textile | Indoor | Outdoor |\n",
    "| --- | --- | --- | --- | --- | --- |\n",
    "| SaGA | square | 0.83 +/- 0.01 | 0.67 +/- 0.02 | 0.41 +/- 0.02 | 0.50 +/- 0.03 |\n",
    "| SODA | square | 0.79 +/- 0.02 | 0.51 +/- 0.07 | 0.25 +/- 0.05 | 0.21 +/- 0.02 |\n",
    "| Overlay | square | 0.79 +/- 0.04 | 0.51 +/- 0.10 | 0.19 +/- 0.05 | 0.23 +/- 0.02 |\n"
   ]
  }
 ],
 "metadata": {
  "kernelspec": {
   "display_name": "robosaga",
   "language": "python",
   "name": "python3"
  },
  "language_info": {
   "codemirror_mode": {
    "name": "ipython",
    "version": 3
   },
   "file_extension": ".py",
   "mimetype": "text/x-python",
   "name": "python",
   "nbconvert_exporter": "python",
   "pygments_lexer": "ipython3",
   "version": "3.8.18"
  }
 },
 "nbformat": 4,
 "nbformat_minor": 2
}
